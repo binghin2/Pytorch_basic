{
  "nbformat": 4,
  "nbformat_minor": 0,
  "metadata": {
    "colab": {
      "provenance": [],
      "authorship_tag": "ABX9TyMiCgPo2UC/tu0GrDUE/4xd",
      "include_colab_link": true
    },
    "kernelspec": {
      "name": "python3",
      "display_name": "Python 3"
    },
    "language_info": {
      "name": "python"
    }
  },
  "cells": [
    {
      "cell_type": "markdown",
      "metadata": {
        "id": "view-in-github",
        "colab_type": "text"
      },
      "source": [
        "<a href=\"https://colab.research.google.com/github/binghin2/Pytorch_basic/blob/main/Matrix_basic2.ipynb\" target=\"_parent\"><img src=\"https://colab.research.google.com/assets/colab-badge.svg\" alt=\"Open In Colab\"/></a>"
      ]
    },
    {
      "cell_type": "code",
      "execution_count": 2,
      "metadata": {
        "id": "IjxwBc60iR85"
      },
      "outputs": [],
      "source": [
        "import torch"
      ]
    },
    {
      "cell_type": "code",
      "source": [
        "a = torch.tensor([1,2,3,4,5,6,7,8,9])\n",
        "print(a[0])\n",
        "print(a[1])\n",
        "print(a[-1]) # 맨 마지막\n",
        "print(a[1:4]) # 1부터 3번째까지\n",
        "print(a[7:]) # 7부터 끝까지\n",
        "print(a[:7]) # 7까지\n",
        "print(a[:])\n",
        "# [a:b] 란 a부터b까지 없으면 그냥 none임"
      ],
      "metadata": {
        "colab": {
          "base_uri": "https://localhost:8080/"
        },
        "id": "V9LjJti6iXAW",
        "outputId": "41347609-e397-440a-a1f0-7523b8a71bac"
      },
      "execution_count": 3,
      "outputs": [
        {
          "output_type": "stream",
          "name": "stdout",
          "text": [
            "tensor(1)\n",
            "tensor(2)\n",
            "tensor(9)\n",
            "tensor([2, 3, 4])\n",
            "tensor([8, 9])\n",
            "tensor([1, 2, 3, 4, 5, 6, 7])\n",
            "tensor([1, 2, 3, 4, 5, 6, 7, 8, 9])\n"
          ]
        }
      ]
    },
    {
      "cell_type": "code",
      "source": [
        "A = torch.tensor([[1,2,3], [4,5,6], [7,8,9]]) #리스트 속 리스트\n",
        "print(\"1:\",A[0]) # A의 첫번째 뭉텅이\n",
        "print(\"2:\",A[-1])\n",
        "print(\"3:\",A[1:])\n",
        "print(\"4:\",A[:])\n",
        "print(\"5:\",A[0][2])\n",
        "print(\"6:\",A[0,2])"
      ],
      "metadata": {
        "colab": {
          "base_uri": "https://localhost:8080/"
        },
        "id": "nuIUGOrXikZI",
        "outputId": "a9704aa5-5908-4c7e-f8d3-44095df21895"
      },
      "execution_count": 4,
      "outputs": [
        {
          "output_type": "stream",
          "name": "stdout",
          "text": [
            "1: tensor([1, 2, 3])\n",
            "2: tensor([7, 8, 9])\n",
            "3: tensor([[4, 5, 6],\n",
            "        [7, 8, 9]])\n",
            "4: tensor([[1, 2, 3],\n",
            "        [4, 5, 6],\n",
            "        [7, 8, 9]])\n",
            "5: tensor(3)\n",
            "6: tensor(3)\n"
          ]
        }
      ]
    },
    {
      "cell_type": "code",
      "source": [
        "B = [[1,2,3,4], [5,6,7,8]]\n",
        "print(\"1:\",B)\n",
        "print(\"2:\",B[0][2])\n",
        "print(\"3:\",A[1,:])\n",
        "print(\"4:\",A[1,0:3:2]) # 0부터 3미만까지 2간격 -> 1행 0열, 1행 2열\n",
        "print(\"5:\",A[:][2])\n",
        "print(\"6:\", A[:,2])"
      ],
      "metadata": {
        "colab": {
          "base_uri": "https://localhost:8080/"
        },
        "id": "fijEqwNMjS-s",
        "outputId": "4e14a931-3418-46e6-a840-4b8cf42df8ea"
      },
      "execution_count": 5,
      "outputs": [
        {
          "output_type": "stream",
          "name": "stdout",
          "text": [
            "1: [[1, 2, 3, 4], [5, 6, 7, 8]]\n",
            "2: 3\n",
            "3: tensor([4, 5, 6])\n",
            "4: tensor([4, 6])\n",
            "5: tensor([7, 8, 9])\n",
            "6: tensor([3, 6, 9])\n"
          ]
        }
      ]
    },
    {
      "cell_type": "code",
      "source": [
        "# 3 dimension matrix\n",
        "\n",
        "A = torch.tensor([[[0,1,2,3], [4,5,6,7], [8,9,10,11]],  # 3행4열\n",
        " [[12,13,14,15], [16,17,18,19], [20,21,22,23]]])        # 3행4열\n",
        "print(A)\n",
        "print(A.shape) # shape 값은 Size(몇개, 행, 열)\n",
        "print(A[0,1,2])\n",
        "\n",
        "\n",
        "a = torch.tensor([[1,2,3,4]]) # b와 비교하여 대괄호가 하나 늘었는데, shape size는 차원이 하나 생김\n",
        "b = torch.tensor([1,2,3,4])\n",
        "print(a.shape)\n",
        "print(b.shape)"
      ],
      "metadata": {
        "id": "eVzW3qo9j2pk",
        "colab": {
          "base_uri": "https://localhost:8080/"
        },
        "outputId": "b89f1f69-9b06-4f6d-c727-903ffe91d1d6"
      },
      "execution_count": 6,
      "outputs": [
        {
          "output_type": "stream",
          "name": "stdout",
          "text": [
            "tensor([[[ 0,  1,  2,  3],\n",
            "         [ 4,  5,  6,  7],\n",
            "         [ 8,  9, 10, 11]],\n",
            "\n",
            "        [[12, 13, 14, 15],\n",
            "         [16, 17, 18, 19],\n",
            "         [20, 21, 22, 23]]])\n",
            "torch.Size([2, 3, 4])\n",
            "tensor(6)\n",
            "torch.Size([1, 4])\n",
            "torch.Size([4])\n"
          ]
        }
      ]
    },
    {
      "cell_type": "code",
      "source": [
        "print(A)"
      ],
      "metadata": {
        "id": "XbAZXFRn3TmS",
        "outputId": "7521134e-8887-43cb-ba1e-9efa1a5b1eec",
        "colab": {
          "base_uri": "https://localhost:8080/"
        }
      },
      "execution_count": 7,
      "outputs": [
        {
          "output_type": "stream",
          "name": "stdout",
          "text": [
            "tensor([[[ 0,  1,  2,  3],\n",
            "         [ 4,  5,  6,  7],\n",
            "         [ 8,  9, 10, 11]],\n",
            "\n",
            "        [[12, 13, 14, 15],\n",
            "         [16, 17, 18, 19],\n",
            "         [20, 21, 22, 23]]])\n"
          ]
        }
      ]
    },
    {
      "cell_type": "code",
      "source": [
        "A[[0,1,1,0],[0,1,2,1],[3,3,2,1]]\n",
        "# 0번째, 0행,3열 = 3\n",
        "# 1번째 1행 3열 = 19\n",
        "# 1번째 2행 2열 = 22\n",
        "# 0번째 1행 1열 = 5"
      ],
      "metadata": {
        "id": "8s7KqQ3E3aTF",
        "outputId": "8c7cd071-9778-4ea2-b3da-9b630801f4f2",
        "colab": {
          "base_uri": "https://localhost:8080/"
        }
      },
      "execution_count": 8,
      "outputs": [
        {
          "output_type": "execute_result",
          "data": {
            "text/plain": [
              "tensor([ 3, 19, 22,  5])"
            ]
          },
          "metadata": {},
          "execution_count": 8
        }
      ]
    },
    {
      "cell_type": "code",
      "source": [
        "# boolean indexing\n",
        "a = [1,2,3,4,5,3,3]\n",
        "print(\"1.\",a==3)  # a 가 int 3이랑 같냐?\n",
        "A = torch.tensor([[1,2,3,4], [5,3,7,3]])\n",
        "print(\"2.\",A>3) # tensor 들 중에서 index 값이 3보다 큰걸 찾아서\n",
        "print(\"3.\",A[A>3]) # 변수 뒤에 대괄호가 열리면 그 앞 변수에대해서 indexing 을 하겠다는 의미\n",
        "# 3번은 A 에대해서 indexing 하는거임 bool 타입의 matrix로\n",
        "# A 는 2행4열임\n",
        "# A[A>3] 은 A 중 True인 값을가지고 index으로 내보\n",
        "A[A>3] = 100 # 이건 3보다 큰값을 100으로 바꾼거 == Masking\n",
        "print(\"4.\",A)\n",
        "\n",
        "A = torch.tensor([[1,2], [3,4], [5,6], [7,8]])\n",
        "B = torch.tensor([True, False, False, True])\n",
        "print(A)\n",
        "print(\"5.\",A[B,:])\n",
        "# A를 B값을 토대로 indexing 하겠음 B는 0행, 3행만 True\n",
        "b = torch.tensor([1,2,3,4])\n",
        "print(\"6.\",b[ [True, True, False, False]])\n",
        "c = [1,2,3,4]"
      ],
      "metadata": {
        "id": "D4ZwJLM23exw",
        "outputId": "35baaad8-06f3-493d-eb7c-5653d8332c99",
        "colab": {
          "base_uri": "https://localhost:8080/"
        }
      },
      "execution_count": 14,
      "outputs": [
        {
          "output_type": "stream",
          "name": "stdout",
          "text": [
            "1. False\n",
            "2. tensor([[False, False, False,  True],\n",
            "        [ True, False,  True, False]])\n",
            "3. tensor([4, 5, 7])\n",
            "4. tensor([[  1,   2,   3, 100],\n",
            "        [100,   3, 100,   3]])\n",
            "tensor([[1, 2],\n",
            "        [3, 4],\n",
            "        [5, 6],\n",
            "        [7, 8]])\n",
            "5. tensor([[1, 2],\n",
            "        [7, 8]])\n",
            "6. tensor([1, 2])\n"
          ]
        }
      ]
    },
    {
      "cell_type": "code",
      "source": [
        "# tensor 로 indexing\n",
        "a = torch.tensor([1,2,3,4,5])\n",
        "A=a[2]\n",
        "print(\"1.\",A)\n",
        "A = a[torch.tensor(2)]\n",
        "print(\"2.\",A)\n",
        "A = a[torch.tensor([2,3,4])] # 2,3,4 번째 tensor를 가져옴\n",
        "print(\"3.\",A)\n",
        "A = a[torch.tensor([[2,2,2], [3,3,3]])] # 2번째 tensor, 3번째 tensor로 2행3열만듬\n",
        "print(\"4.\",A)\n",
        "\n",
        "a = torch.tensor([[1,2,3], [4,5,6]])\n",
        "print(\"5.\",a[torch.tensor(0)])\n",
        "A = a[torch.tensor([[0,1],[1,1]])]\n",
        "# 앞에 [0,1] << 여기의 0은 a[0] = [1,2,3] 이거고 1은 a[1] = [4,5,6] 임 그러므로 [0,1] = [1,2,3], [4,5,6]\n",
        "# [1,1] 역시 [4,5,6], [4,5,6]\n",
        "print(\"6.\",A.shape) # '2'차원'2'행'3'열\n",
        "print(\"7.\",A) # segmentation 결과를 보여줄때 사용함! 이게 뭐냐면 그림을 indexing 할라고 사용한대"
      ],
      "metadata": {
        "id": "0J340FwF4xkS",
        "outputId": "02e8069f-949c-481b-b274-3346e70ec79b",
        "colab": {
          "base_uri": "https://localhost:8080/"
        }
      },
      "execution_count": 28,
      "outputs": [
        {
          "output_type": "stream",
          "name": "stdout",
          "text": [
            "1. tensor(3)\n",
            "2. tensor(3)\n",
            "3. tensor([3, 4, 5])\n",
            "4. tensor([[3, 3, 3],\n",
            "        [4, 4, 4]])\n",
            "5. tensor([1, 2, 3])\n",
            "6. torch.Size([2, 2, 3])\n",
            "7. tensor([[[1, 2, 3],\n",
            "         [4, 5, 6]],\n",
            "\n",
            "        [[4, 5, 6],\n",
            "         [4, 5, 6]]])\n"
          ]
        }
      ]
    },
    {
      "cell_type": "code",
      "source": [
        "a = torch.tensor([[1,2,3], [4,5,6]])\n",
        "A = a[torch.tensor([[0,1], [1,1]])]\n",
        "# 이걸 list형태로 indexing 하려면\n",
        "# A 의 값은 [1,2,3], [4,5,6],\n",
        "# [4,5,6], [4,5,6]\n",
        "# shape 는 2차원 2행 3열임 이걸 list 형태로 하려면? 개노가다임\n",
        "print(A)\n",
        "A = torch.tensor([[[0,1,2,3], [4,5,6,7], [8,9,10,11]],[[12,13,14,15], [16,17,18,19], [20,21,22,23]]])\n",
        "print(A)\n",
        "A[[0,1,1,0], [0,1,2,1], [3,3,2,1]] # A[0,0,3]"
      ],
      "metadata": {
        "id": "00QFSeeb8UIN",
        "outputId": "4ff2b999-1e30-4e1a-c393-19d6c43c5703",
        "colab": {
          "base_uri": "https://localhost:8080/"
        }
      },
      "execution_count": 33,
      "outputs": [
        {
          "output_type": "stream",
          "name": "stdout",
          "text": [
            "tensor([[[1, 2, 3],\n",
            "         [4, 5, 6]],\n",
            "\n",
            "        [[4, 5, 6],\n",
            "         [4, 5, 6]]])\n",
            "tensor([[[ 0,  1,  2,  3],\n",
            "         [ 4,  5,  6,  7],\n",
            "         [ 8,  9, 10, 11]],\n",
            "\n",
            "        [[12, 13, 14, 15],\n",
            "         [16, 17, 18, 19],\n",
            "         [20, 21, 22, 23]]])\n"
          ]
        },
        {
          "output_type": "execute_result",
          "data": {
            "text/plain": [
              "tensor([ 3, 19, 22,  5])"
            ]
          },
          "metadata": {},
          "execution_count": 33
        }
      ]
    }
  ]
}