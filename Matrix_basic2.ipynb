{
  "nbformat": 4,
  "nbformat_minor": 0,
  "metadata": {
    "colab": {
      "provenance": [],
      "authorship_tag": "ABX9TyNUxWSO7ZmbT210WWJzXPx0",
      "include_colab_link": true
    },
    "kernelspec": {
      "name": "python3",
      "display_name": "Python 3"
    },
    "language_info": {
      "name": "python"
    }
  },
  "cells": [
    {
      "cell_type": "markdown",
      "metadata": {
        "id": "view-in-github",
        "colab_type": "text"
      },
      "source": [
        "<a href=\"https://colab.research.google.com/github/binghin2/Pytorch_basic/blob/main/Matrix_basic2.ipynb\" target=\"_parent\"><img src=\"https://colab.research.google.com/assets/colab-badge.svg\" alt=\"Open In Colab\"/></a>"
      ]
    },
    {
      "cell_type": "code",
      "execution_count": null,
      "metadata": {
        "id": "IjxwBc60iR85"
      },
      "outputs": [],
      "source": [
        "import torch"
      ]
    },
    {
      "cell_type": "code",
      "source": [
        "a = torch.tensor([1,2,3,4,5,6,7,8,9])\n",
        "print(a[0])\n",
        "print(a[1])\n",
        "print(a[-1]) # 맨 마지막\n",
        "print(a[1:4]) # 1부터 3번째까지\n",
        "print(a[7:]) # 7부터 끝까지\n",
        "print(a[:7]) # 7까지\n",
        "print(a[:])\n",
        "# [a:b] 란 a부터b까지 없으면 그냥 none임"
      ],
      "metadata": {
        "colab": {
          "base_uri": "https://localhost:8080/"
        },
        "id": "V9LjJti6iXAW",
        "outputId": "94f8413a-0f42-4ac3-beb9-dd64a4164a3b"
      },
      "execution_count": null,
      "outputs": [
        {
          "output_type": "stream",
          "name": "stdout",
          "text": [
            "tensor(1)\n",
            "tensor(2)\n",
            "tensor(9)\n",
            "tensor([2, 3, 4])\n",
            "tensor([8, 9])\n",
            "tensor([1, 2, 3, 4, 5, 6, 7])\n",
            "tensor([1, 2, 3, 4, 5, 6, 7, 8, 9])\n"
          ]
        }
      ]
    },
    {
      "cell_type": "code",
      "source": [
        "A = torch.tensor([[1,2,3], [4,5,6], [7,8,9]]) #리스트 속 리스트\n",
        "print(\"1:\",A[0]) # A의 첫번째 뭉텅이\n",
        "print(\"2:\",A[-1])\n",
        "print(\"3:\",A[1:])\n",
        "print(\"4:\",A[:])\n",
        "print(\"5:\",A[0][2])\n",
        "print(\"6:\",A[0,2])"
      ],
      "metadata": {
        "colab": {
          "base_uri": "https://localhost:8080/"
        },
        "id": "nuIUGOrXikZI",
        "outputId": "3b3cefe3-0f07-4acd-fc2f-04d31d15b8d8"
      },
      "execution_count": null,
      "outputs": [
        {
          "output_type": "stream",
          "name": "stdout",
          "text": [
            "1: tensor([1, 2, 3])\n",
            "2: tensor([7, 8, 9])\n",
            "3: tensor([[4, 5, 6],\n",
            "        [7, 8, 9]])\n",
            "4: tensor([[1, 2, 3],\n",
            "        [4, 5, 6],\n",
            "        [7, 8, 9]])\n",
            "5: tensor(3)\n",
            "6: tensor(3)\n"
          ]
        }
      ]
    },
    {
      "cell_type": "code",
      "source": [
        "B = [[1,2,3,4], [5,6,7,8]]\n",
        "print(\"1:\",B)\n",
        "print(\"2:\",B[0][2])\n",
        "print(\"3:\",A[1,:])\n",
        "print(\"4:\",A[1,0:3:2]) # 0부터 3미만까지 2간격 -> 1행 0열, 1행 2열\n",
        "print(\"5:\",A[:][2])\n",
        "print(\"6:\", A[:,2])"
      ],
      "metadata": {
        "colab": {
          "base_uri": "https://localhost:8080/"
        },
        "id": "fijEqwNMjS-s",
        "outputId": "96b98e0c-0ad0-4e9c-a771-b73d5bb7f647"
      },
      "execution_count": null,
      "outputs": [
        {
          "output_type": "stream",
          "name": "stdout",
          "text": [
            "1: [[1, 2, 3, 4], [5, 6, 7, 8]]\n",
            "2: 3\n",
            "3: tensor([4, 5, 6])\n",
            "4: tensor([4, 6])\n",
            "5: tensor([7, 8, 9])\n",
            "6: tensor([3, 6, 9])\n"
          ]
        }
      ]
    },
    {
      "cell_type": "code",
      "source": [
        "# 3 dimension matrix\n",
        "\n",
        "A = torch.tensor([[[0,1,2,3], [4,5,6,7], [8,9,10,11]],  # 3행4열\n",
        " [[12,13,14,15], [16,17,18,19], [20,21,22,23]]])        # 3행4열\n",
        "print(A)\n",
        "print(A.shape) # shape 값은 Size(몇개, 행, 열)\n",
        "print(A[0,1,2])\n",
        "\n",
        "\n",
        "a = torch.tensor([[1,2,3,4]]) # b와 비교하여 대괄호가 하나 늘었는데, shape size는 차원이 하나 생김\n",
        "b = torch.tensor([1,2,3,4])\n",
        "print(a.shape)\n",
        "print(b.shape)"
      ],
      "metadata": {
        "id": "eVzW3qo9j2pk",
        "colab": {
          "base_uri": "https://localhost:8080/"
        },
        "outputId": "78790efd-e61b-452d-d73f-bce3e6a8fa1b"
      },
      "execution_count": null,
      "outputs": [
        {
          "output_type": "stream",
          "name": "stdout",
          "text": [
            "tensor([[[ 0,  1,  2,  3],\n",
            "         [ 4,  5,  6,  7],\n",
            "         [ 8,  9, 10, 11]],\n",
            "\n",
            "        [[12, 13, 14, 15],\n",
            "         [16, 17, 18, 19],\n",
            "         [20, 21, 22, 23]]])\n",
            "torch.Size([2, 3, 4])\n",
            "tensor(6)\n",
            "torch.Size([1, 4])\n",
            "torch.Size([4])\n"
          ]
        }
      ]
    }
  ]
}