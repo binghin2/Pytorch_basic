{
  "nbformat": 4,
  "nbformat_minor": 0,
  "metadata": {
    "colab": {
      "provenance": [],
      "authorship_tag": "ABX9TyNzbagd9smuQE7e4qwCqC8O",
      "include_colab_link": true
    },
    "kernelspec": {
      "name": "python3",
      "display_name": "Python 3"
    },
    "language_info": {
      "name": "python"
    }
  },
  "cells": [
    {
      "cell_type": "markdown",
      "metadata": {
        "id": "view-in-github",
        "colab_type": "text"
      },
      "source": [
        "<a href=\"https://colab.research.google.com/github/binghin2/Pytorch_basic/blob/main/Matrix_basic.ipynb\" target=\"_parent\"><img src=\"https://colab.research.google.com/assets/colab-badge.svg\" alt=\"Open In Colab\"/></a>"
      ]
    },
    {
      "cell_type": "code",
      "execution_count": 1,
      "metadata": {
        "id": "FffS-m03u6ml"
      },
      "outputs": [],
      "source": [
        "# numpy와 닮은 pytorch"
      ]
    },
    {
      "cell_type": "markdown",
      "source": [],
      "metadata": {
        "id": "-pD0W07lvDMq"
      }
    },
    {
      "cell_type": "code",
      "source": [
        "import torch\n",
        "a = torch.tensor([1,2,3,4])\n",
        "print(a)\n",
        "print(type(a))\n",
        "print(a.dtype)\n",
        "print(a.shape) # a의 크기\n",
        "\n",
        "b = torch.tensor([1,2,3.1,4])\n",
        "print(b)\n",
        "print(b.dtype) # 하나라도 실수면 실수 type\n",
        "print(b.shape)"
      ],
      "metadata": {
        "colab": {
          "base_uri": "https://localhost:8080/"
        },
        "id": "Tu3qdUoiu_fX",
        "outputId": "f6e09faa-b3e2-4f3f-979f-8011e2f10960"
      },
      "execution_count": 7,
      "outputs": [
        {
          "output_type": "stream",
          "name": "stdout",
          "text": [
            "tensor([1, 2, 3, 4])\n",
            "<class 'torch.Tensor'>\n",
            "torch.int64\n",
            "torch.Size([4])\n",
            "tensor([1.0000, 2.0000, 3.1000, 4.0000])\n",
            "torch.float32\n",
            "torch.Size([4])\n"
          ]
        }
      ]
    },
    {
      "cell_type": "code",
      "source": [
        "c = torch.tensor([[1,2,3], [3,4,5]])\n",
        "# torch.tensor([[1,2], [1,2,3]]) 같은 방식은 정의가 안됨. matrix 이기 때문\n",
        "print(c)\n",
        "print(c.shape) # 2행3열\n",
        "print(c.ndim) # dimension의 수\n",
        "print(c.numel()) # number of element 총 성분의 개수"
      ],
      "metadata": {
        "colab": {
          "base_uri": "https://localhost:8080/"
        },
        "id": "-TnjbIYnvfN8",
        "outputId": "43b0364c-c97b-430c-8a2c-124af8e1d789"
      },
      "execution_count": 10,
      "outputs": [
        {
          "output_type": "stream",
          "name": "stdout",
          "text": [
            "tensor([[1, 2, 3],\n",
            "        [3, 4, 5]])\n",
            "torch.Size([2, 3])\n",
            "2\n",
            "6\n"
          ]
        }
      ]
    },
    {
      "cell_type": "code",
      "source": [
        "print(torch.zeros(5)) # 5개의 0행렬\n",
        "print(torch.zeros_like(c)) # c와 같은 영행렬\n",
        "print(torch.ones(5)) # 5개 1행렬\n",
        "print(torch.zeros(3,3)) # 3x3 의 영행렬\n",
        "print(torch.arange(3,10,2)) # 3부터 10까지 2씩 증가\n",
        "print(torch.arange(0,1,0.1)) # 소수점도 가능\n",
        "print(torch.linspace(0,1,10)) # 0 에서 1을 포함한 10개\n"
      ],
      "metadata": {
        "colab": {
          "base_uri": "https://localhost:8080/"
        },
        "id": "NNd6VCfhwKMy",
        "outputId": "3b6244e5-b760-4a66-f53c-be8497358ede"
      },
      "execution_count": 19,
      "outputs": [
        {
          "output_type": "stream",
          "name": "stdout",
          "text": [
            "tensor([0., 0., 0., 0., 0.])\n",
            "tensor([[0, 0, 0],\n",
            "        [0, 0, 0]])\n",
            "tensor([1., 1., 1., 1., 1.])\n",
            "tensor([[0., 0., 0.],\n",
            "        [0., 0., 0.],\n",
            "        [0., 0., 0.]])\n",
            "tensor([3, 5, 7, 9])\n",
            "tensor([0.0000, 0.1000, 0.2000, 0.3000, 0.4000, 0.5000, 0.6000, 0.7000, 0.8000,\n",
            "        0.9000])\n",
            "tensor([0.0000, 0.1111, 0.2222, 0.3333, 0.4444, 0.5556, 0.6667, 0.7778, 0.8889,\n",
            "        1.0000])\n"
          ]
        }
      ]
    },
    {
      "cell_type": "code",
      "source": [
        "a = torch.tensor([1,2,3])\n",
        "b = torch.tensor([4,5,6])\n",
        "c = a + b\n",
        "print(c)"
      ],
      "metadata": {
        "colab": {
          "base_uri": "https://localhost:8080/"
        },
        "id": "gw0Lg437xaLM",
        "outputId": "988bdb9d-2975-4830-b7ce-7533f874c0cf"
      },
      "execution_count": 21,
      "outputs": [
        {
          "output_type": "stream",
          "name": "stdout",
          "text": [
            "tensor([5, 7, 9])\n"
          ]
        }
      ]
    },
    {
      "cell_type": "code",
      "source": [
        "c = a * b\n",
        "print(c)"
      ],
      "metadata": {
        "colab": {
          "base_uri": "https://localhost:8080/"
        },
        "id": "lZoRN4KDEAVK",
        "outputId": "69958ec5-0587-4394-c2e1-572753271a11"
      },
      "execution_count": 23,
      "outputs": [
        {
          "output_type": "stream",
          "name": "stdout",
          "text": [
            "tensor([ 4, 10, 18])\n"
          ]
        }
      ]
    },
    {
      "cell_type": "code",
      "source": [
        "A = torch.tensor([[1,2,3], [1,2,3]])\n",
        "B = torch.tensor([[4,5,6], [1,2,3]])\n",
        "C = A + B\n",
        "D = A - B\n",
        "print(C)\n",
        "print(D)\n",
        "print(A*B) # 성분끼리의 곱\n",
        "print(A/B)\n",
        "print(B**2)"
      ],
      "metadata": {
        "colab": {
          "base_uri": "https://localhost:8080/"
        },
        "id": "wR7879RGEEXV",
        "outputId": "e507b224-05b5-408b-c149-959835d00a60"
      },
      "execution_count": 29,
      "outputs": [
        {
          "output_type": "stream",
          "name": "stdout",
          "text": [
            "tensor([[5, 7, 9],\n",
            "        [2, 4, 6]])\n",
            "tensor([[-3, -3, -3],\n",
            "        [ 0,  0,  0]])\n",
            "tensor([[ 4, 10, 18],\n",
            "        [ 1,  4,  9]])\n",
            "tensor([[0.2500, 0.4000, 0.5000],\n",
            "        [1.0000, 1.0000, 1.0000]])\n",
            "tensor([[16, 25, 36],\n",
            "        [ 1,  4,  9]])\n"
          ]
        }
      ]
    },
    {
      "cell_type": "code",
      "source": [
        "A = torch.tensor([[1,2,], [3,4]])\n",
        "B = torch.tensor([[1,2], [3,4]])\n",
        "print(A)\n",
        "print(B)\n",
        "print(A@B)"
      ],
      "metadata": {
        "colab": {
          "base_uri": "https://localhost:8080/"
        },
        "id": "mKg-LEkBEs42",
        "outputId": "1d18da81-5f63-4c9d-f5fc-1b72549062b5"
      },
      "execution_count": 33,
      "outputs": [
        {
          "output_type": "stream",
          "name": "stdout",
          "text": [
            "tensor([[1, 2],\n",
            "        [3, 4]])\n",
            "tensor([[1, 2],\n",
            "        [3, 4]])\n",
            "tensor([[ 7, 10],\n",
            "        [15, 22]])\n"
          ]
        }
      ]
    },
    {
      "cell_type": "code",
      "source": [],
      "metadata": {
        "id": "XuEXLrJPF_LG"
      },
      "execution_count": null,
      "outputs": []
    }
  ]
}